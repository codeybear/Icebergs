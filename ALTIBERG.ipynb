{
 "cells": [
  {
   "cell_type": "code",
   "execution_count": 2,
   "metadata": {},
   "outputs": [],
   "source": [
    "import os\n",
    "os.environ['PROJ_LIB'] = '/opt/conda/share/proj'\n",
    "\n",
    "%matplotlib inline\n",
    "\n",
    "import netCDF4 as nc\n",
    "import numpy as np\n",
    "import matplotlib.pyplot as plt\n",
    "from mpl_toolkits.basemap import Basemap"
   ]
  },
  {
   "cell_type": "code",
   "execution_count": 3,
   "metadata": {},
   "outputs": [],
   "source": [
    "root = nc.Dataset('prod_latlon_merged_2017.nc')"
   ]
  },
  {
   "cell_type": "code",
   "execution_count": 3,
   "metadata": {
    "collapsed": true
   },
   "outputs": [
    {
     "data": {
      "text/plain": [
       "OrderedDict([('time', <class 'netCDF4._netCDF4.Variable'>\n",
       "              int32 time(time)\n",
       "                  units: days since 1990-01-01T00:00:00Z\n",
       "                  long_name: julian day (UT)\n",
       "                  standard_name: time\n",
       "                  conventions: Relative julian days\n",
       "                  axis: T\n",
       "              unlimited dimensions: \n",
       "              current shape = (12,)\n",
       "              filling on, default _FillValue of -2147483647 used),\n",
       "             ('longitude', <class 'netCDF4._netCDF4.Variable'>\n",
       "              float64 longitude(longitude)\n",
       "                  long_name: longitude\n",
       "                  standard_name: longitude\n",
       "                  units: degree_east\n",
       "                  valid_min: -180\n",
       "                  valid_max: 180\n",
       "                  axis: X\n",
       "              unlimited dimensions: \n",
       "              current shape = (181,)\n",
       "              filling on, default _FillValue of 9.969209968386869e+36 used),\n",
       "             ('latitude', <class 'netCDF4._netCDF4.Variable'>\n",
       "              float64 latitude(latitude)\n",
       "                  long_name: latitude\n",
       "                  standard_name: latitude\n",
       "                  units: degree_north\n",
       "                  valid_min: -90\n",
       "                  valid_max: 90\n",
       "                  axis: Y\n",
       "              unlimited dimensions: \n",
       "              current shape = (51,)\n",
       "              filling on, default _FillValue of 9.969209968386869e+36 used),\n",
       "             ('probability', <class 'netCDF4._netCDF4.Variable'>\n",
       "              float32 probability(time, longitude, latitude)\n",
       "                  long_name: probability of presence of iceberg\n",
       "                  units: 1/km2\n",
       "                  valid_min: 0.0\n",
       "                  valid_max: 1.0\n",
       "                  _FillValue: 9.96921e+36\n",
       "                  content: TYX\n",
       "                  associates: time latitude longitude\n",
       "              unlimited dimensions: \n",
       "              current shape = (12, 181, 51)\n",
       "              filling on),\n",
       "             ('ice_volume', <class 'netCDF4._netCDF4.Variable'>\n",
       "              float32 ice_volume(time, longitude, latitude)\n",
       "                  long_name: volume of ice\n",
       "                  units: GigaTons\n",
       "                  valid_min: 0.0\n",
       "                  valid_max: 100.0\n",
       "                  _FillValue: 9.96921e+36\n",
       "                  content: TYX\n",
       "                  associates: time latitude longitude\n",
       "              unlimited dimensions: \n",
       "              current shape = (12, 181, 51)\n",
       "              filling on),\n",
       "             ('ice_area', <class 'netCDF4._netCDF4.Variable'>\n",
       "              float32 ice_area(time, longitude, latitude)\n",
       "                  long_name: mean area of iceberg\n",
       "                  units: km2\n",
       "                  valid_min: 0.0\n",
       "                  valid_max: 100.0\n",
       "                  _FillValue: 9.96921e+36\n",
       "                  content: TYX\n",
       "                  associates: time latitude longitude\n",
       "              unlimited dimensions: \n",
       "              current shape = (12, 181, 51)\n",
       "              filling on),\n",
       "             ('ice_length', <class 'netCDF4._netCDF4.Variable'>\n",
       "              float32 ice_length(longitude, latitude)\n",
       "                  long_name: mean length of iceberg from a log normal fit of pdf\n",
       "                  units: km\n",
       "                  valid_min: 0.0\n",
       "                  valid_max: 2000.0\n",
       "                  _FillValue: 9.96921e+36\n",
       "                  content: YX\n",
       "                  associates: latitude longitude\n",
       "              unlimited dimensions: \n",
       "              current shape = (181, 51)\n",
       "              filling on)])"
      ]
     },
     "execution_count": 3,
     "metadata": {},
     "output_type": "execute_result"
    }
   ],
   "source": [
    "root.variables"
   ]
  },
  {
   "cell_type": "code",
   "execution_count": 5,
   "metadata": {},
   "outputs": [
    {
     "data": {
      "text/plain": [
       "OrderedDict([('time',\n",
       "              <class 'netCDF4._netCDF4.Dimension'>: name = 'time', size = 12),\n",
       "             ('longitude',\n",
       "              <class 'netCDF4._netCDF4.Dimension'>: name = 'longitude', size = 181),\n",
       "             ('latitude',\n",
       "              <class 'netCDF4._netCDF4.Dimension'>: name = 'latitude', size = 51)])"
      ]
     },
     "execution_count": 5,
     "metadata": {},
     "output_type": "execute_result"
    }
   ],
   "source": [
    "root.dimensions"
   ]
  },
  {
   "cell_type": "code",
   "execution_count": 4,
   "metadata": {},
   "outputs": [],
   "source": [
    "time = root.variables['time']\n",
    "latitude = root.variables['latitude']\n",
    "longitude = root.variables['longitude']\n",
    "ice_area = root.variables['ice_area']"
   ]
  },
  {
   "cell_type": "code",
   "execution_count": 9,
   "metadata": {},
   "outputs": [
    {
     "data": {
      "text/plain": [
       "<class 'netCDF4._netCDF4.Variable'>\n",
       "int32 time(time)\n",
       "    units: days since 1990-01-01T00:00:00Z\n",
       "    long_name: julian day (UT)\n",
       "    standard_name: time\n",
       "    conventions: Relative julian days\n",
       "    axis: T\n",
       "unlimited dimensions: \n",
       "current shape = (12,)\n",
       "filling on, default _FillValue of -2147483647 used"
      ]
     },
     "execution_count": 9,
     "metadata": {},
     "output_type": "execute_result"
    }
   ],
   "source": [
    "time"
   ]
  },
  {
   "cell_type": "code",
   "execution_count": 10,
   "metadata": {},
   "outputs": [
    {
     "data": {
      "text/plain": [
       "<class 'netCDF4._netCDF4.Variable'>\n",
       "float64 latitude(latitude)\n",
       "    long_name: latitude\n",
       "    standard_name: latitude\n",
       "    units: degree_north\n",
       "    valid_min: -90\n",
       "    valid_max: 90\n",
       "    axis: Y\n",
       "unlimited dimensions: \n",
       "current shape = (51,)\n",
       "filling on, default _FillValue of 9.969209968386869e+36 used"
      ]
     },
     "execution_count": 10,
     "metadata": {},
     "output_type": "execute_result"
    }
   ],
   "source": [
    "latitude"
   ]
  },
  {
   "cell_type": "code",
   "execution_count": 11,
   "metadata": {},
   "outputs": [
    {
     "data": {
      "text/plain": [
       "<class 'netCDF4._netCDF4.Variable'>\n",
       "float64 longitude(longitude)\n",
       "    long_name: longitude\n",
       "    standard_name: longitude\n",
       "    units: degree_east\n",
       "    valid_min: -180\n",
       "    valid_max: 180\n",
       "    axis: X\n",
       "unlimited dimensions: \n",
       "current shape = (181,)\n",
       "filling on, default _FillValue of 9.969209968386869e+36 used"
      ]
     },
     "execution_count": 11,
     "metadata": {},
     "output_type": "execute_result"
    }
   ],
   "source": [
    "longitude"
   ]
  },
  {
   "cell_type": "code",
   "execution_count": 7,
   "metadata": {},
   "outputs": [
    {
     "name": "stderr",
     "output_type": "stream",
     "text": [
      "/opt/conda/lib/python3.7/site-packages/ipykernel_launcher.py:1: UserWarning: WARNING: valid_min not used since it\n",
      "cannot be safely cast to variable data type\n",
      "  \"\"\"Entry point for launching an IPython kernel.\n",
      "/opt/conda/lib/python3.7/site-packages/ipykernel_launcher.py:1: UserWarning: WARNING: valid_max not used since it\n",
      "cannot be safely cast to variable data type\n",
      "  \"\"\"Entry point for launching an IPython kernel.\n"
     ]
    },
    {
     "data": {
      "text/plain": [
       "masked_array(data=[-90., -89., -88., -87., -86., -85., -84., -83., -82.,\n",
       "                   -81., -80., -79., -78., -77., -76., -75., -74., -73.,\n",
       "                   -72., -71., -70., -69., -68., -67., -66., -65., -64.,\n",
       "                   -63., -62., -61., -60., -59., -58., -57., -56., -55.,\n",
       "                   -54., -53., -52., -51., -50., -49., -48., -47., -46.,\n",
       "                   -45., -44., -43., -42., -41., -40.],\n",
       "             mask=False,\n",
       "       fill_value=1e+20)"
      ]
     },
     "execution_count": 7,
     "metadata": {},
     "output_type": "execute_result"
    }
   ],
   "source": [
    "latitude[:]"
   ]
  },
  {
   "cell_type": "code",
   "execution_count": 8,
   "metadata": {
    "scrolled": true
   },
   "outputs": [
    {
     "name": "stderr",
     "output_type": "stream",
     "text": [
      "/opt/conda/lib/python3.7/site-packages/ipykernel_launcher.py:1: UserWarning: WARNING: valid_min not used since it\n",
      "cannot be safely cast to variable data type\n",
      "  \"\"\"Entry point for launching an IPython kernel.\n",
      "/opt/conda/lib/python3.7/site-packages/ipykernel_launcher.py:1: UserWarning: WARNING: valid_max not used since it\n",
      "cannot be safely cast to variable data type\n",
      "  \"\"\"Entry point for launching an IPython kernel.\n"
     ]
    },
    {
     "data": {
      "text/plain": [
       "masked_array(data=[  0.,   2.,   4.,   6.,   8.,  10.,  12.,  14.,  16.,\n",
       "                    18.,  20.,  22.,  24.,  26.,  28.,  30.,  32.,  34.,\n",
       "                    36.,  38.,  40.,  42.,  44.,  46.,  48.,  50.,  52.,\n",
       "                    54.,  56.,  58.,  60.,  62.,  64.,  66.,  68.,  70.,\n",
       "                    72.,  74.,  76.,  78.,  80.,  82.,  84.,  86.,  88.,\n",
       "                    90.,  92.,  94.,  96.,  98., 100., 102., 104., 106.,\n",
       "                   108., 110., 112., 114., 116., 118., 120., 122., 124.,\n",
       "                   126., 128., 130., 132., 134., 136., 138., 140., 142.,\n",
       "                   144., 146., 148., 150., 152., 154., 156., 158., 160.,\n",
       "                   162., 164., 166., 168., 170., 172., 174., 176., 178.,\n",
       "                   180., 182., 184., 186., 188., 190., 192., 194., 196.,\n",
       "                   198., 200., 202., 204., 206., 208., 210., 212., 214.,\n",
       "                   216., 218., 220., 222., 224., 226., 228., 230., 232.,\n",
       "                   234., 236., 238., 240., 242., 244., 246., 248., 250.,\n",
       "                   252., 254., 256., 258., 260., 262., 264., 266., 268.,\n",
       "                   270., 272., 274., 276., 278., 280., 282., 284., 286.,\n",
       "                   288., 290., 292., 294., 296., 298., 300., 302., 304.,\n",
       "                   306., 308., 310., 312., 314., 316., 318., 320., 322.,\n",
       "                   324., 326., 328., 330., 332., 334., 336., 338., 340.,\n",
       "                   342., 344., 346., 348., 350., 352., 354., 356., 358.,\n",
       "                   360.],\n",
       "             mask=False,\n",
       "       fill_value=1e+20)"
      ]
     },
     "execution_count": 8,
     "metadata": {},
     "output_type": "execute_result"
    }
   ],
   "source": [
    "longitude[:]"
   ]
  },
  {
   "cell_type": "code",
   "execution_count": 9,
   "metadata": {},
   "outputs": [
    {
     "data": {
      "text/plain": [
       "<class 'netCDF4._netCDF4.Variable'>\n",
       "float32 ice_area(time, longitude, latitude)\n",
       "    long_name: mean area of iceberg\n",
       "    units: km2\n",
       "    valid_min: 0.0\n",
       "    valid_max: 100.0\n",
       "    _FillValue: 9.96921e+36\n",
       "    content: TYX\n",
       "    associates: time latitude longitude\n",
       "unlimited dimensions: \n",
       "current shape = (12, 181, 51)\n",
       "filling on"
      ]
     },
     "execution_count": 9,
     "metadata": {},
     "output_type": "execute_result"
    }
   ],
   "source": [
    "ice_area"
   ]
  },
  {
   "cell_type": "code",
   "execution_count": 22,
   "metadata": {
    "collapsed": true
   },
   "outputs": [
    {
     "name": "stdout",
     "output_type": "stream",
     "text": [
      "source\n",
      "project\n",
      "authors\n",
      "contact\n",
      "southernmost_latitude\n",
      "northernmost_latitude\n",
      "latitude_resolution\n",
      "westernmost_longitude\n",
      "easternmost_longitude\n",
      "longitude_resolution\n",
      "start_date\n",
      "stop_date\n",
      "field_type\n",
      "sensor\n"
     ]
    }
   ],
   "source": [
    "for name in root.ncattrs():\n",
    "    print(name)"
   ]
  },
  {
   "cell_type": "code",
   "execution_count": 10,
   "metadata": {},
   "outputs": [
    {
     "name": "stdout",
     "output_type": "stream",
     "text": [
      "km2\n",
      "(12, 181, 51)\n",
      "('time', 'longitude', 'latitude')\n"
     ]
    }
   ],
   "source": [
    "print(ice_area.units)\n",
    "print(ice_area.shape)\n",
    "print(ice_area.dimensions)"
   ]
  },
  {
   "cell_type": "markdown",
   "metadata": {},
   "source": [
    "# Ice Area Data"
   ]
  },
  {
   "cell_type": "code",
   "execution_count": 5,
   "metadata": {},
   "outputs": [
    {
     "name": "stderr",
     "output_type": "stream",
     "text": [
      "/opt/conda/lib/python3.7/site-packages/ipykernel_launcher.py:2: RuntimeWarning: invalid value encountered in less\n",
      "  \n",
      "/opt/conda/lib/python3.7/site-packages/ipykernel_launcher.py:2: RuntimeWarning: invalid value encountered in greater\n",
      "  \n"
     ]
    },
    {
     "data": {
      "text/plain": [
       "masked_array(data=[nan, nan, nan, nan, nan, nan, nan, nan, nan, nan, nan,\n",
       "                   nan, nan, nan, nan, nan, nan, nan, nan, nan, nan, nan,\n",
       "                    0.,  0.,  0.,  0.,  0.,  0.,  0.,  0.,  0.,  0.,  0.,\n",
       "                    0.,  0.,  0.,  0.,  0.,  0.,  0.,  0.,  0.,  0.,  0.,\n",
       "                    0.,  0.,  0.,  0.,  0.,  0.,  0.],\n",
       "             mask=False,\n",
       "       fill_value=1e+20,\n",
       "            dtype=float32)"
      ]
     },
     "execution_count": 5,
     "metadata": {},
     "output_type": "execute_result"
    }
   ],
   "source": [
    "# data has nan as well as 0 values\n",
    "ice_area[0,75,:]"
   ]
  },
  {
   "cell_type": "markdown",
   "metadata": {},
   "source": [
    "### Overview\n",
    "\n",
    "latitude is -90 to -40  \n",
    "longitude - 0 to 360 with 2 degrees precision  \n",
    "    I am subtracting 180 from this to get the correct longitude? will check the documentation on this\n",
    "B30 is currently at -63, -141\n",
    "A lot of the data is nan, but there is "
   ]
  },
  {
   "cell_type": "code",
   "execution_count": 11,
   "metadata": {},
   "outputs": [
    {
     "name": "stderr",
     "output_type": "stream",
     "text": [
      "/opt/conda/lib/python3.7/site-packages/ipykernel_launcher.py:1: RuntimeWarning: invalid value encountered in less\n",
      "  \"\"\"Entry point for launching an IPython kernel.\n",
      "/opt/conda/lib/python3.7/site-packages/ipykernel_launcher.py:1: RuntimeWarning: invalid value encountered in greater\n",
      "  \"\"\"Entry point for launching an IPython kernel.\n"
     ]
    },
    {
     "data": {
      "text/plain": [
       "array([[nan, nan, nan, ...,  0.,  0.,  0.],\n",
       "       [nan, nan, nan, ...,  0.,  0.,  0.],\n",
       "       [nan, nan, nan, ...,  0.,  0.,  0.],\n",
       "       ...,\n",
       "       [nan, nan, nan, ...,  0.,  0.,  0.],\n",
       "       [nan, nan, nan, ...,  0.,  0.,  0.],\n",
       "       [nan, nan, nan, ...,  0.,  0.,  0.]], dtype=float32)"
      ]
     },
     "execution_count": 11,
     "metadata": {},
     "output_type": "execute_result"
    }
   ],
   "source": [
    "ice2d = ice_area[2,:,:].data\n",
    "ice2d"
   ]
  },
  {
   "cell_type": "code",
   "execution_count": 7,
   "metadata": {},
   "outputs": [
    {
     "data": {
      "image/png": "[encoded data removed]",
      "text/plain": [
       "<Figure size 432x288 with 1 Axes>"
      ]
     },
     "metadata": {
      "needs_background": "light"
     },
     "output_type": "display_data"
    }
   ],
   "source": [
    "plt.pcolor(x)\n",
    "plt.show()"
   ]
  },
  {
   "cell_type": "code",
   "execution_count": 40,
   "metadata": {},
   "outputs": [
    {
     "name": "stderr",
     "output_type": "stream",
     "text": [
      "/opt/conda/lib/python3.7/site-packages/ipykernel_launcher.py:1: UserWarning: WARNING: valid_min not used since it\n",
      "cannot be safely cast to variable data type\n",
      "  \"\"\"Entry point for launching an IPython kernel.\n",
      "/opt/conda/lib/python3.7/site-packages/ipykernel_launcher.py:1: UserWarning: WARNING: valid_max not used since it\n",
      "cannot be safely cast to variable data type\n",
      "  \"\"\"Entry point for launching an IPython kernel.\n",
      "/opt/conda/lib/python3.7/site-packages/ipykernel_launcher.py:2: UserWarning: WARNING: valid_min not used since it\n",
      "cannot be safely cast to variable data type\n",
      "  \n",
      "/opt/conda/lib/python3.7/site-packages/ipykernel_launcher.py:2: UserWarning: WARNING: valid_max not used since it\n",
      "cannot be safely cast to variable data type\n",
      "  \n"
     ]
    },
    {
     "data": {
      "text/plain": [
       "<matplotlib.colorbar.Colorbar at 0x7fd1ef1f76a0>"
      ]
     },
     "execution_count": 40,
     "metadata": {},
     "output_type": "execute_result"
    },
    {
     "data": {
      "image/png": "[encoded data removed]",
      "text/plain": [
       "<Figure size 432x288 with 2 Axes>"
      ]
     },
     "metadata": {
      "needs_background": "light"
     },
     "output_type": "display_data"
    }
   ],
   "source": [
    "lonvals = longitude[:].data - 180\n",
    "latvals = latitude[:].data\n",
    "plt.pcolor(latvals, lonvals, x)\n",
    "\n",
    "plt.xlabel(latitude.standard_name.capitalize())\n",
    "plt.ylabel(longitude.standard_name.capitalize())\n",
    "plt.title(ice_area.long_name.capitalize())\n",
    "plt.colorbar(orientation=\"horizontal\")"
   ]
  },
  {
   "cell_type": "markdown",
   "metadata": {},
   "source": [
    "### Plot onto basemap to make sense of the data"
   ]
  },
  {
   "cell_type": "code",
   "execution_count": 10,
   "metadata": {},
   "outputs": [
    {
     "name": "stderr",
     "output_type": "stream",
     "text": [
      "/opt/conda/lib/python3.7/site-packages/ipykernel_launcher.py:15: RuntimeWarning: invalid value encountered in less\n",
      "  from ipykernel import kernelapp as app\n",
      "/opt/conda/lib/python3.7/site-packages/ipykernel_launcher.py:15: RuntimeWarning: invalid value encountered in greater\n",
      "  from ipykernel import kernelapp as app\n"
     ]
    },
    {
     "ename": "ValueError",
     "evalue": "zero-size array to reduction operation maximum which has no identity",
     "output_type": "error",
     "traceback": [
      "\u001b[0;31m---------------------------------------------------------------------------\u001b[0m",
      "\u001b[0;31mValueError\u001b[0m                                Traceback (most recent call last)",
      "\u001b[0;32m<ipython-input-10-338fa0f44548>\u001b[0m in \u001b[0;36m<module>\u001b[0;34m\u001b[0m\n\u001b[1;32m     18\u001b[0m \u001b[0;34m\u001b[0m\u001b[0m\n\u001b[1;32m     19\u001b[0m \u001b[0;31m# make filled contour plot.\u001b[0m\u001b[0;34m\u001b[0m\u001b[0;34m\u001b[0m\u001b[0;34m\u001b[0m\u001b[0m\n\u001b[0;32m---> 20\u001b[0;31m \u001b[0mthe_map\u001b[0m\u001b[0;34m.\u001b[0m\u001b[0mcontourf\u001b[0m\u001b[0;34m(\u001b[0m\u001b[0mx\u001b[0m\u001b[0;34m,\u001b[0m \u001b[0my\u001b[0m\u001b[0;34m,\u001b[0m \u001b[0mice2d\u001b[0m\u001b[0;34m,\u001b[0m \u001b[0;36m30\u001b[0m\u001b[0;34m,\u001b[0m \u001b[0mcmap\u001b[0m\u001b[0;34m=\u001b[0m\u001b[0mplt\u001b[0m\u001b[0;34m.\u001b[0m\u001b[0mcm\u001b[0m\u001b[0;34m.\u001b[0m\u001b[0mjet\u001b[0m\u001b[0;34m)\u001b[0m\u001b[0;34m\u001b[0m\u001b[0;34m\u001b[0m\u001b[0m\n\u001b[0m\u001b[1;32m     21\u001b[0m \u001b[0mplt\u001b[0m\u001b[0;34m.\u001b[0m\u001b[0mshow\u001b[0m\u001b[0;34m(\u001b[0m\u001b[0;34m)\u001b[0m\u001b[0;34m\u001b[0m\u001b[0;34m\u001b[0m\u001b[0m\n",
      "\u001b[0;32m/opt/conda/lib/python3.7/site-packages/mpl_toolkits/basemap/__init__.py\u001b[0m in \u001b[0;36mwith_transform\u001b[0;34m(self, x, y, data, *args, **kwargs)\u001b[0m\n\u001b[1;32m    544\u001b[0m             \u001b[0;31m# convert lat/lon coords to map projection coords.\u001b[0m\u001b[0;34m\u001b[0m\u001b[0;34m\u001b[0m\u001b[0;34m\u001b[0m\u001b[0m\n\u001b[1;32m    545\u001b[0m             \u001b[0mx\u001b[0m\u001b[0;34m,\u001b[0m \u001b[0my\u001b[0m \u001b[0;34m=\u001b[0m \u001b[0mself\u001b[0m\u001b[0;34m(\u001b[0m\u001b[0mx\u001b[0m\u001b[0;34m,\u001b[0m\u001b[0my\u001b[0m\u001b[0;34m)\u001b[0m\u001b[0;34m\u001b[0m\u001b[0;34m\u001b[0m\u001b[0m\n\u001b[0;32m--> 546\u001b[0;31m         \u001b[0;32mreturn\u001b[0m \u001b[0mplotfunc\u001b[0m\u001b[0;34m(\u001b[0m\u001b[0mself\u001b[0m\u001b[0;34m,\u001b[0m\u001b[0mx\u001b[0m\u001b[0;34m,\u001b[0m\u001b[0my\u001b[0m\u001b[0;34m,\u001b[0m\u001b[0mdata\u001b[0m\u001b[0;34m,\u001b[0m\u001b[0;34m*\u001b[0m\u001b[0margs\u001b[0m\u001b[0;34m,\u001b[0m\u001b[0;34m**\u001b[0m\u001b[0mkwargs\u001b[0m\u001b[0;34m)\u001b[0m\u001b[0;34m\u001b[0m\u001b[0;34m\u001b[0m\u001b[0m\n\u001b[0m\u001b[1;32m    547\u001b[0m     \u001b[0;32mreturn\u001b[0m \u001b[0mwith_transform\u001b[0m\u001b[0;34m\u001b[0m\u001b[0;34m\u001b[0m\u001b[0m\n\u001b[1;32m    548\u001b[0m \u001b[0;34m\u001b[0m\u001b[0m\n",
      "\u001b[0;32m/opt/conda/lib/python3.7/site-packages/mpl_toolkits/basemap/__init__.py\u001b[0m in \u001b[0;36mcontourf\u001b[0;34m(self, x, y, data, *args, **kwargs)\u001b[0m\n\u001b[1;32m   3658\u001b[0m                 \u001b[0myy\u001b[0m \u001b[0;34m=\u001b[0m \u001b[0mma\u001b[0m\u001b[0;34m.\u001b[0m\u001b[0mmasked_where\u001b[0m\u001b[0;34m(\u001b[0m\u001b[0my\u001b[0m \u001b[0;34m>\u001b[0m \u001b[0;36m1.e20\u001b[0m\u001b[0;34m,\u001b[0m \u001b[0my\u001b[0m\u001b[0;34m)\u001b[0m\u001b[0;34m\u001b[0m\u001b[0;34m\u001b[0m\u001b[0m\n\u001b[1;32m   3659\u001b[0m                 \u001b[0;32mif\u001b[0m \u001b[0mself\u001b[0m\u001b[0;34m.\u001b[0m\u001b[0mprojection\u001b[0m \u001b[0;34m!=\u001b[0m \u001b[0;34m'omerc'\u001b[0m\u001b[0;34m:\u001b[0m\u001b[0;34m\u001b[0m\u001b[0;34m\u001b[0m\u001b[0m\n\u001b[0;32m-> 3660\u001b[0;31m                     \u001b[0mepsx\u001b[0m \u001b[0;34m=\u001b[0m \u001b[0mnp\u001b[0m\u001b[0;34m.\u001b[0m\u001b[0mabs\u001b[0m\u001b[0;34m(\u001b[0m\u001b[0mxx\u001b[0m\u001b[0;34m[\u001b[0m\u001b[0;34m:\u001b[0m\u001b[0;34m,\u001b[0m\u001b[0;36m1\u001b[0m\u001b[0;34m:\u001b[0m\u001b[0;34m]\u001b[0m\u001b[0;34m-\u001b[0m\u001b[0mxx\u001b[0m\u001b[0;34m[\u001b[0m\u001b[0;34m:\u001b[0m\u001b[0;34m,\u001b[0m\u001b[0;36m0\u001b[0m\u001b[0;34m:\u001b[0m\u001b[0;34m-\u001b[0m\u001b[0;36m1\u001b[0m\u001b[0;34m]\u001b[0m\u001b[0;34m)\u001b[0m\u001b[0;34m.\u001b[0m\u001b[0mmax\u001b[0m\u001b[0;34m(\u001b[0m\u001b[0;34m)\u001b[0m\u001b[0;34m\u001b[0m\u001b[0;34m\u001b[0m\u001b[0m\n\u001b[0m\u001b[1;32m   3661\u001b[0m                     \u001b[0mepsy\u001b[0m \u001b[0;34m=\u001b[0m \u001b[0mnp\u001b[0m\u001b[0;34m.\u001b[0m\u001b[0mabs\u001b[0m\u001b[0;34m(\u001b[0m\u001b[0myy\u001b[0m\u001b[0;34m[\u001b[0m\u001b[0;36m1\u001b[0m\u001b[0;34m:\u001b[0m\u001b[0;34m,\u001b[0m\u001b[0;34m:\u001b[0m\u001b[0;34m]\u001b[0m\u001b[0;34m-\u001b[0m\u001b[0myy\u001b[0m\u001b[0;34m[\u001b[0m\u001b[0;36m0\u001b[0m\u001b[0;34m:\u001b[0m\u001b[0;34m-\u001b[0m\u001b[0;36m1\u001b[0m\u001b[0;34m,\u001b[0m\u001b[0;34m:\u001b[0m\u001b[0;34m]\u001b[0m\u001b[0;34m)\u001b[0m\u001b[0;34m.\u001b[0m\u001b[0mmax\u001b[0m\u001b[0;34m(\u001b[0m\u001b[0;34m)\u001b[0m\u001b[0;34m\u001b[0m\u001b[0;34m\u001b[0m\u001b[0m\n\u001b[1;32m   3662\u001b[0m                 \u001b[0;32melse\u001b[0m\u001b[0;34m:\u001b[0m \u001b[0;31m# doesn't work for omerc (FIXME)\u001b[0m\u001b[0;34m\u001b[0m\u001b[0;34m\u001b[0m\u001b[0m\n",
      "\u001b[0;32m/opt/conda/lib/python3.7/site-packages/numpy/ma/core.py\u001b[0m in \u001b[0;36mmax\u001b[0;34m(self, axis, out, fill_value, keepdims)\u001b[0m\n\u001b[1;32m   5722\u001b[0m         \u001b[0;32mif\u001b[0m \u001b[0mout\u001b[0m \u001b[0;32mis\u001b[0m \u001b[0;32mNone\u001b[0m\u001b[0;34m:\u001b[0m\u001b[0;34m\u001b[0m\u001b[0;34m\u001b[0m\u001b[0m\n\u001b[1;32m   5723\u001b[0m             result = self.filled(fill_value).max(\n\u001b[0;32m-> 5724\u001b[0;31m                 axis=axis, out=out, **kwargs).view(type(self))\n\u001b[0m\u001b[1;32m   5725\u001b[0m             \u001b[0;32mif\u001b[0m \u001b[0mresult\u001b[0m\u001b[0;34m.\u001b[0m\u001b[0mndim\u001b[0m\u001b[0;34m:\u001b[0m\u001b[0;34m\u001b[0m\u001b[0;34m\u001b[0m\u001b[0m\n\u001b[1;32m   5726\u001b[0m                 \u001b[0;31m# Set the mask\u001b[0m\u001b[0;34m\u001b[0m\u001b[0;34m\u001b[0m\u001b[0;34m\u001b[0m\u001b[0m\n",
      "\u001b[0;32m/opt/conda/lib/python3.7/site-packages/numpy/core/_methods.py\u001b[0m in \u001b[0;36m_amax\u001b[0;34m(a, axis, out, keepdims, initial)\u001b[0m\n\u001b[1;32m     26\u001b[0m def _amax(a, axis=None, out=None, keepdims=False,\n\u001b[1;32m     27\u001b[0m           initial=_NoValue):\n\u001b[0;32m---> 28\u001b[0;31m     \u001b[0;32mreturn\u001b[0m \u001b[0mumr_maximum\u001b[0m\u001b[0;34m(\u001b[0m\u001b[0ma\u001b[0m\u001b[0;34m,\u001b[0m \u001b[0maxis\u001b[0m\u001b[0;34m,\u001b[0m \u001b[0;32mNone\u001b[0m\u001b[0;34m,\u001b[0m \u001b[0mout\u001b[0m\u001b[0;34m,\u001b[0m \u001b[0mkeepdims\u001b[0m\u001b[0;34m,\u001b[0m \u001b[0minitial\u001b[0m\u001b[0;34m)\u001b[0m\u001b[0;34m\u001b[0m\u001b[0;34m\u001b[0m\u001b[0m\n\u001b[0m\u001b[1;32m     29\u001b[0m \u001b[0;34m\u001b[0m\u001b[0m\n\u001b[1;32m     30\u001b[0m def _amin(a, axis=None, out=None, keepdims=False,\n",
      "\u001b[0;31mValueError\u001b[0m: zero-size array to reduction operation maximum which has no identity"
     ]
    },
    {
     "data": {
      "image/png": "[encoded data removed]",
      "text/plain": [
       "<Figure size 432x288 with 1 Axes>"
      ]
     },
     "metadata": {},
     "output_type": "display_data"
    }
   ],
   "source": [
    "# create a map\n",
    "the_map = Basemap(projection='spstere',boundinglat=10,lon_0=270)\n",
    "sea_color='lightcyan'\n",
    "\n",
    "# set any desired features\n",
    "the_map.drawcoastlines()\n",
    "the_map.drawmapboundary(fill_color=sea_color)\n",
    "the_map.drawparallels(np.arange(-80,81,20))\n",
    "the_map.drawmeridians(np.arange(-180,180,20))\n",
    "\n",
    "lons = [-40]\n",
    "lats = [-70]\n",
    "\n",
    "x, y = the_map(*np.meshgrid(lons,lats))\n",
    "\n",
    "# make filled contour plot.\n",
    "the_map.contourf(x, y, ice2d, 30, cmap=plt.cm.jet)\n",
    "plt.show()"
   ]
  },
  {
   "cell_type": "code",
   "execution_count": null,
   "metadata": {},
   "outputs": [],
   "source": []
  }
 ],
 "metadata": {
  "kernelspec": {
   "display_name": "Python 3",
   "language": "python",
   "name": "python3"
  },
  "language_info": {
   "codemirror_mode": {
    "name": "ipython",
    "version": 3
   },
   "file_extension": ".py",
   "mimetype": "text/x-python",
   "name": "python",
   "nbconvert_exporter": "python",
   "pygments_lexer": "ipython3",
   "version": "3.7.2"
  }
 },
 "nbformat": 4,
 "nbformat_minor": 2
}
