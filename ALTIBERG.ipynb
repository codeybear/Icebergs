{
 "cells": [
  {
   "cell_type": "code",
   "execution_count": 1,
   "metadata": {},
   "outputs": [],
   "source": [
    "import os\n",
    "os.environ['PROJ_LIB'] = '/opt/conda/share/proj'\n",
    "\n",
    "%matplotlib inline\n",
    "\n",
    "import netCDF4 as nc\n",
    "import numpy as np\n",
    "import matplotlib.pyplot as plt\n",
    "from mpl_toolkits.basemap import Basemap"
   ]
  },
  {
   "cell_type": "code",
   "execution_count": 2,
   "metadata": {},
   "outputs": [],
   "source": [
    "root = nc.Dataset('prod_latlon_merged_2017.nc')"
   ]
  },
  {
   "cell_type": "code",
   "execution_count": 3,
   "metadata": {},
   "outputs": [],
   "source": [
    "time = root.variables['time']\n",
    "latitude = root.variables['latitude']\n",
    "longitude = root.variables['longitude']\n",
    "ice_area = root.variables['ice_area']"
   ]
  },
  {
   "cell_type": "code",
   "execution_count": 4,
   "metadata": {
    "collapsed": true
   },
   "outputs": [
    {
     "data": {
      "text/plain": [
       "OrderedDict([('time', <class 'netCDF4._netCDF4.Variable'>\n",
       "              int32 time(time)\n",
       "                  units: days since 1990-01-01T00:00:00Z\n",
       "                  long_name: julian day (UT)\n",
       "                  standard_name: time\n",
       "                  conventions: Relative julian days\n",
       "                  axis: T\n",
       "              unlimited dimensions: \n",
       "              current shape = (12,)\n",
       "              filling on, default _FillValue of -2147483647 used),\n",
       "             ('longitude', <class 'netCDF4._netCDF4.Variable'>\n",
       "              float64 longitude(longitude)\n",
       "                  long_name: longitude\n",
       "                  standard_name: longitude\n",
       "                  units: degree_east\n",
       "                  valid_min: -180\n",
       "                  valid_max: 180\n",
       "                  axis: X\n",
       "              unlimited dimensions: \n",
       "              current shape = (181,)\n",
       "              filling on, default _FillValue of 9.969209968386869e+36 used),\n",
       "             ('latitude', <class 'netCDF4._netCDF4.Variable'>\n",
       "              float64 latitude(latitude)\n",
       "                  long_name: latitude\n",
       "                  standard_name: latitude\n",
       "                  units: degree_north\n",
       "                  valid_min: -90\n",
       "                  valid_max: 90\n",
       "                  axis: Y\n",
       "              unlimited dimensions: \n",
       "              current shape = (51,)\n",
       "              filling on, default _FillValue of 9.969209968386869e+36 used),\n",
       "             ('probability', <class 'netCDF4._netCDF4.Variable'>\n",
       "              float32 probability(time, longitude, latitude)\n",
       "                  long_name: probability of presence of iceberg\n",
       "                  units: 1/km2\n",
       "                  valid_min: 0.0\n",
       "                  valid_max: 1.0\n",
       "                  _FillValue: 9.96921e+36\n",
       "                  content: TYX\n",
       "                  associates: time latitude longitude\n",
       "              unlimited dimensions: \n",
       "              current shape = (12, 181, 51)\n",
       "              filling on),\n",
       "             ('ice_volume', <class 'netCDF4._netCDF4.Variable'>\n",
       "              float32 ice_volume(time, longitude, latitude)\n",
       "                  long_name: volume of ice\n",
       "                  units: GigaTons\n",
       "                  valid_min: 0.0\n",
       "                  valid_max: 100.0\n",
       "                  _FillValue: 9.96921e+36\n",
       "                  content: TYX\n",
       "                  associates: time latitude longitude\n",
       "              unlimited dimensions: \n",
       "              current shape = (12, 181, 51)\n",
       "              filling on),\n",
       "             ('ice_area', <class 'netCDF4._netCDF4.Variable'>\n",
       "              float32 ice_area(time, longitude, latitude)\n",
       "                  long_name: mean area of iceberg\n",
       "                  units: km2\n",
       "                  valid_min: 0.0\n",
       "                  valid_max: 100.0\n",
       "                  _FillValue: 9.96921e+36\n",
       "                  content: TYX\n",
       "                  associates: time latitude longitude\n",
       "              unlimited dimensions: \n",
       "              current shape = (12, 181, 51)\n",
       "              filling on),\n",
       "             ('ice_length', <class 'netCDF4._netCDF4.Variable'>\n",
       "              float32 ice_length(longitude, latitude)\n",
       "                  long_name: mean length of iceberg from a log normal fit of pdf\n",
       "                  units: km\n",
       "                  valid_min: 0.0\n",
       "                  valid_max: 2000.0\n",
       "                  _FillValue: 9.96921e+36\n",
       "                  content: YX\n",
       "                  associates: latitude longitude\n",
       "              unlimited dimensions: \n",
       "              current shape = (181, 51)\n",
       "              filling on)])"
      ]
     },
     "execution_count": 4,
     "metadata": {},
     "output_type": "execute_result"
    }
   ],
   "source": [
    "root.variables"
   ]
  },
  {
   "cell_type": "code",
   "execution_count": 5,
   "metadata": {
    "collapsed": true
   },
   "outputs": [
    {
     "data": {
      "text/plain": [
       "OrderedDict([('time',\n",
       "              <class 'netCDF4._netCDF4.Dimension'>: name = 'time', size = 12),\n",
       "             ('longitude',\n",
       "              <class 'netCDF4._netCDF4.Dimension'>: name = 'longitude', size = 181),\n",
       "             ('latitude',\n",
       "              <class 'netCDF4._netCDF4.Dimension'>: name = 'latitude', size = 51)])"
      ]
     },
     "execution_count": 5,
     "metadata": {},
     "output_type": "execute_result"
    }
   ],
   "source": [
    "root.dimensions"
   ]
  },
  {
   "cell_type": "code",
   "execution_count": 6,
   "metadata": {},
   "outputs": [
    {
     "data": {
      "text/plain": [
       "<class 'netCDF4._netCDF4.Variable'>\n",
       "int32 time(time)\n",
       "    units: days since 1990-01-01T00:00:00Z\n",
       "    long_name: julian day (UT)\n",
       "    standard_name: time\n",
       "    conventions: Relative julian days\n",
       "    axis: T\n",
       "unlimited dimensions: \n",
       "current shape = (12,)\n",
       "filling on, default _FillValue of -2147483647 used"
      ]
     },
     "execution_count": 6,
     "metadata": {},
     "output_type": "execute_result"
    }
   ],
   "source": [
    "time"
   ]
  },
  {
   "cell_type": "code",
   "execution_count": 10,
   "metadata": {
    "collapsed": true
   },
   "outputs": [
    {
     "data": {
      "text/plain": [
       "<class 'netCDF4._netCDF4.Variable'>\n",
       "float64 latitude(latitude)\n",
       "    long_name: latitude\n",
       "    standard_name: latitude\n",
       "    units: degree_north\n",
       "    valid_min: -90\n",
       "    valid_max: 90\n",
       "    axis: Y\n",
       "unlimited dimensions: \n",
       "current shape = (51,)\n",
       "filling on, default _FillValue of 9.969209968386869e+36 used"
      ]
     },
     "execution_count": 10,
     "metadata": {},
     "output_type": "execute_result"
    }
   ],
   "source": [
    "latitude"
   ]
  },
  {
   "cell_type": "code",
   "execution_count": 11,
   "metadata": {
    "collapsed": true
   },
   "outputs": [
    {
     "data": {
      "text/plain": [
       "<class 'netCDF4._netCDF4.Variable'>\n",
       "float64 longitude(longitude)\n",
       "    long_name: longitude\n",
       "    standard_name: longitude\n",
       "    units: degree_east\n",
       "    valid_min: -180\n",
       "    valid_max: 180\n",
       "    axis: X\n",
       "unlimited dimensions: \n",
       "current shape = (181,)\n",
       "filling on, default _FillValue of 9.969209968386869e+36 used"
      ]
     },
     "execution_count": 11,
     "metadata": {},
     "output_type": "execute_result"
    }
   ],
   "source": [
    "longitude"
   ]
  },
  {
   "cell_type": "code",
   "execution_count": 7,
   "metadata": {
    "collapsed": true
   },
   "outputs": [
    {
     "name": "stderr",
     "output_type": "stream",
     "text": [
      "/opt/conda/lib/python3.7/site-packages/ipykernel_launcher.py:1: UserWarning: WARNING: valid_min not used since it\n",
      "cannot be safely cast to variable data type\n",
      "  \"\"\"Entry point for launching an IPython kernel.\n",
      "/opt/conda/lib/python3.7/site-packages/ipykernel_launcher.py:1: UserWarning: WARNING: valid_max not used since it\n",
      "cannot be safely cast to variable data type\n",
      "  \"\"\"Entry point for launching an IPython kernel.\n"
     ]
    },
    {
     "data": {
      "text/plain": [
       "masked_array(data=[-90., -89., -88., -87., -86., -85., -84., -83., -82.,\n",
       "                   -81., -80., -79., -78., -77., -76., -75., -74., -73.,\n",
       "                   -72., -71., -70., -69., -68., -67., -66., -65., -64.,\n",
       "                   -63., -62., -61., -60., -59., -58., -57., -56., -55.,\n",
       "                   -54., -53., -52., -51., -50., -49., -48., -47., -46.,\n",
       "                   -45., -44., -43., -42., -41., -40.],\n",
       "             mask=False,\n",
       "       fill_value=1e+20)"
      ]
     },
     "execution_count": 7,
     "metadata": {},
     "output_type": "execute_result"
    }
   ],
   "source": [
    "latitude[:]"
   ]
  },
  {
   "cell_type": "code",
   "execution_count": 8,
   "metadata": {
    "collapsed": true
   },
   "outputs": [
    {
     "name": "stderr",
     "output_type": "stream",
     "text": [
      "/opt/conda/lib/python3.7/site-packages/ipykernel_launcher.py:1: UserWarning: WARNING: valid_min not used since it\n",
      "cannot be safely cast to variable data type\n",
      "  \"\"\"Entry point for launching an IPython kernel.\n",
      "/opt/conda/lib/python3.7/site-packages/ipykernel_launcher.py:1: UserWarning: WARNING: valid_max not used since it\n",
      "cannot be safely cast to variable data type\n",
      "  \"\"\"Entry point for launching an IPython kernel.\n"
     ]
    },
    {
     "data": {
      "text/plain": [
       "masked_array(data=[  0.,   2.,   4.,   6.,   8.,  10.,  12.,  14.,  16.,\n",
       "                    18.,  20.,  22.,  24.,  26.,  28.,  30.,  32.,  34.,\n",
       "                    36.,  38.,  40.,  42.,  44.,  46.,  48.,  50.,  52.,\n",
       "                    54.,  56.,  58.,  60.,  62.,  64.,  66.,  68.,  70.,\n",
       "                    72.,  74.,  76.,  78.,  80.,  82.,  84.,  86.,  88.,\n",
       "                    90.,  92.,  94.,  96.,  98., 100., 102., 104., 106.,\n",
       "                   108., 110., 112., 114., 116., 118., 120., 122., 124.,\n",
       "                   126., 128., 130., 132., 134., 136., 138., 140., 142.,\n",
       "                   144., 146., 148., 150., 152., 154., 156., 158., 160.,\n",
       "                   162., 164., 166., 168., 170., 172., 174., 176., 178.,\n",
       "                   180., 182., 184., 186., 188., 190., 192., 194., 196.,\n",
       "                   198., 200., 202., 204., 206., 208., 210., 212., 214.,\n",
       "                   216., 218., 220., 222., 224., 226., 228., 230., 232.,\n",
       "                   234., 236., 238., 240., 242., 244., 246., 248., 250.,\n",
       "                   252., 254., 256., 258., 260., 262., 264., 266., 268.,\n",
       "                   270., 272., 274., 276., 278., 280., 282., 284., 286.,\n",
       "                   288., 290., 292., 294., 296., 298., 300., 302., 304.,\n",
       "                   306., 308., 310., 312., 314., 316., 318., 320., 322.,\n",
       "                   324., 326., 328., 330., 332., 334., 336., 338., 340.,\n",
       "                   342., 344., 346., 348., 350., 352., 354., 356., 358.,\n",
       "                   360.],\n",
       "             mask=False,\n",
       "       fill_value=1e+20)"
      ]
     },
     "execution_count": 8,
     "metadata": {},
     "output_type": "execute_result"
    }
   ],
   "source": [
    "longitude[:]"
   ]
  },
  {
   "cell_type": "code",
   "execution_count": 13,
   "metadata": {},
   "outputs": [
    {
     "data": {
      "text/plain": [
       "masked_array(data=[ 9862,  9893,  9921,  9952,  9982, 10013, 10043, 10074,\n",
       "                   10105, 10135, 10166, 10196],\n",
       "             mask=False,\n",
       "       fill_value=999999,\n",
       "            dtype=int32)"
      ]
     },
     "execution_count": 13,
     "metadata": {},
     "output_type": "execute_result"
    }
   ],
   "source": [
    "time[:]"
   ]
  },
  {
   "cell_type": "code",
   "execution_count": 9,
   "metadata": {
    "collapsed": true
   },
   "outputs": [
    {
     "data": {
      "text/plain": [
       "<class 'netCDF4._netCDF4.Variable'>\n",
       "float32 ice_area(time, longitude, latitude)\n",
       "    long_name: mean area of iceberg\n",
       "    units: km2\n",
       "    valid_min: 0.0\n",
       "    valid_max: 100.0\n",
       "    _FillValue: 9.96921e+36\n",
       "    content: TYX\n",
       "    associates: time latitude longitude\n",
       "unlimited dimensions: \n",
       "current shape = (12, 181, 51)\n",
       "filling on"
      ]
     },
     "execution_count": 9,
     "metadata": {},
     "output_type": "execute_result"
    }
   ],
   "source": [
    "ice_area"
   ]
  },
  {
   "cell_type": "code",
   "execution_count": 22,
   "metadata": {
    "collapsed": true
   },
   "outputs": [
    {
     "name": "stdout",
     "output_type": "stream",
     "text": [
      "source\n",
      "project\n",
      "authors\n",
      "contact\n",
      "southernmost_latitude\n",
      "northernmost_latitude\n",
      "latitude_resolution\n",
      "westernmost_longitude\n",
      "easternmost_longitude\n",
      "longitude_resolution\n",
      "start_date\n",
      "stop_date\n",
      "field_type\n",
      "sensor\n"
     ]
    }
   ],
   "source": [
    "for name in root.ncattrs():\n",
    "    print(name)"
   ]
  },
  {
   "cell_type": "code",
   "execution_count": 5,
   "metadata": {
    "collapsed": true
   },
   "outputs": [
    {
     "name": "stdout",
     "output_type": "stream",
     "text": [
      "km2\n",
      "(12, 181, 51)\n",
      "('time', 'longitude', 'latitude')\n"
     ]
    }
   ],
   "source": [
    "print(ice_area.units)\n",
    "print(ice_area.shape)\n",
    "print(ice_area.dimensions)"
   ]
  },
  {
   "cell_type": "markdown",
   "metadata": {},
   "source": [
    "# Ice Area Data"
   ]
  },
  {
   "cell_type": "code",
   "execution_count": 7,
   "metadata": {
    "collapsed": true
   },
   "outputs": [
    {
     "name": "stderr",
     "output_type": "stream",
     "text": [
      "/opt/conda/lib/python3.7/site-packages/ipykernel_launcher.py:2: RuntimeWarning: invalid value encountered in less\n",
      "  \n",
      "/opt/conda/lib/python3.7/site-packages/ipykernel_launcher.py:2: RuntimeWarning: invalid value encountered in greater\n",
      "  \n"
     ]
    },
    {
     "data": {
      "text/plain": [
       "masked_array(data=[nan, nan, nan, nan, nan, nan, nan, nan, nan, nan, nan,\n",
       "                   nan, nan, nan, nan, nan, nan, nan, nan, nan, nan, nan,\n",
       "                    0.,  0.,  0.,  0.,  0.,  0.,  0.,  0.,  0.,  0.,  0.,\n",
       "                    0.,  0.,  0.,  0.,  0.,  0.,  0.,  0.,  0.,  0.,  0.,\n",
       "                    0.,  0.,  0.,  0.,  0.,  0.,  0.],\n",
       "             mask=False,\n",
       "       fill_value=1e+20,\n",
       "            dtype=float32)"
      ]
     },
     "execution_count": 7,
     "metadata": {},
     "output_type": "execute_result"
    }
   ],
   "source": [
    "# data has nan as well as 0 values\n",
    "ice_area[0,75,:]"
   ]
  },
  {
   "cell_type": "markdown",
   "metadata": {},
   "source": [
    "### Overview\n",
    "\n",
    "latitude is -90 to -40  \n",
    "longitude - 0 to 360 with 2 degrees precision  \n",
    "    I am subtracting 180 from this to get the correct longitude? will check the documentation on this\n",
    "B30 is currently at -63, -141\n",
    "A lot of the data is nan."
   ]
  },
  {
   "cell_type": "code",
   "execution_count": 8,
   "metadata": {},
   "outputs": [
    {
     "name": "stderr",
     "output_type": "stream",
     "text": [
      "/opt/conda/lib/python3.7/site-packages/ipykernel_launcher.py:1: RuntimeWarning: invalid value encountered in less\n",
      "  \"\"\"Entry point for launching an IPython kernel.\n",
      "/opt/conda/lib/python3.7/site-packages/ipykernel_launcher.py:1: RuntimeWarning: invalid value encountered in greater\n",
      "  \"\"\"Entry point for launching an IPython kernel.\n"
     ]
    },
    {
     "data": {
      "text/plain": [
       "array([[nan, nan, nan, ..., nan, nan, nan],\n",
       "       [nan, nan, nan, ..., nan, nan, nan],\n",
       "       [nan, nan, nan, ..., nan, nan, nan],\n",
       "       ...,\n",
       "       [ 0.,  0.,  0., ...,  0.,  0.,  0.],\n",
       "       [ 0.,  0.,  0., ...,  0.,  0.,  0.],\n",
       "       [ 0.,  0.,  0., ...,  0.,  0.,  0.]], dtype=float32)"
      ]
     },
     "execution_count": 8,
     "metadata": {},
     "output_type": "execute_result"
    }
   ],
   "source": [
    "ice2d = ice_area[2,:,:].data\n",
    "ice2d = np.swapaxes(ice2d, 0, 1)\n",
    "ice2d"
   ]
  },
  {
   "cell_type": "code",
   "execution_count": 9,
   "metadata": {},
   "outputs": [
    {
     "name": "stderr",
     "output_type": "stream",
     "text": [
      "/opt/conda/lib/python3.7/site-packages/ipykernel_launcher.py:1: UserWarning: WARNING: valid_min not used since it\n",
      "cannot be safely cast to variable data type\n",
      "  \"\"\"Entry point for launching an IPython kernel.\n",
      "/opt/conda/lib/python3.7/site-packages/ipykernel_launcher.py:1: UserWarning: WARNING: valid_max not used since it\n",
      "cannot be safely cast to variable data type\n",
      "  \"\"\"Entry point for launching an IPython kernel.\n",
      "/opt/conda/lib/python3.7/site-packages/ipykernel_launcher.py:2: UserWarning: WARNING: valid_min not used since it\n",
      "cannot be safely cast to variable data type\n",
      "  \n",
      "/opt/conda/lib/python3.7/site-packages/ipykernel_launcher.py:2: UserWarning: WARNING: valid_max not used since it\n",
      "cannot be safely cast to variable data type\n",
      "  \n"
     ]
    }
   ],
   "source": [
    "lonvals = longitude[:].data\n",
    "latvals = latitude[:].data"
   ]
  },
  {
   "cell_type": "code",
   "execution_count": 24,
   "metadata": {
    "collapsed": true
   },
   "outputs": [
    {
     "name": "stderr",
     "output_type": "stream",
     "text": [
      "/opt/conda/lib/python3.7/site-packages/ipykernel_launcher.py:1: UserWarning: WARNING: valid_min not used since it\n",
      "cannot be safely cast to variable data type\n",
      "  \"\"\"Entry point for launching an IPython kernel.\n",
      "/opt/conda/lib/python3.7/site-packages/ipykernel_launcher.py:1: UserWarning: WARNING: valid_max not used since it\n",
      "cannot be safely cast to variable data type\n",
      "  \"\"\"Entry point for launching an IPython kernel.\n",
      "/opt/conda/lib/python3.7/site-packages/ipykernel_launcher.py:2: UserWarning: WARNING: valid_min not used since it\n",
      "cannot be safely cast to variable data type\n",
      "  \n",
      "/opt/conda/lib/python3.7/site-packages/ipykernel_launcher.py:2: UserWarning: WARNING: valid_max not used since it\n",
      "cannot be safely cast to variable data type\n",
      "  \n"
     ]
    },
    {
     "data": {
      "text/plain": [
       "<matplotlib.colorbar.Colorbar at 0x7fd7497012b0>"
      ]
     },
     "execution_count": 24,
     "metadata": {},
     "output_type": "execute_result"
    },
    {
     "data": {
      "image/png": "[encoded data removed]",
      "text/plain": [
       "<Figure size 432x288 with 2 Axes>"
      ]
     },
     "metadata": {
      "needs_background": "light"
     },
     "output_type": "display_data"
    }
   ],
   "source": [
    "plt.pcolor(latvals, lonvals, ice2d)\n",
    "\n",
    "plt.xlabel(latitude.standard_name.capitalize())\n",
    "plt.ylabel(longitude.standard_name.capitalize())\n",
    "plt.title(ice_area.long_name.capitalize())\n",
    "plt.colorbar(orientation=\"horizontal\")"
   ]
  },
  {
   "cell_type": "markdown",
   "metadata": {},
   "source": [
    "### Plot onto basemap to make sense of the data"
   ]
  },
  {
   "cell_type": "code",
   "execution_count": 12,
   "metadata": {
    "scrolled": true
   },
   "outputs": [
    {
     "data": {
      "image/png": "[encoded data removed]",
      "text/plain": [
       "<Figure size 720x720 with 2 Axes>"
      ]
     },
     "metadata": {
      "needs_background": "light"
     },
     "output_type": "display_data"
    }
   ],
   "source": [
    "# Useful south pole stereographic link\n",
    "# Shows how to plot points as well\n",
    "#https://stackoverflow.com/questions/45302485/matplotlib-focus-on-specific-lon-lat-using-spstere-projection\n",
    "\n",
    "# create a map\n",
    "plt.figure(figsize=(10,10))\n",
    "m = Basemap(projection = 'spstere', boundinglat = -50, lon_0 = 270)\n",
    "sea_color = 'lightcyan'\n",
    "\n",
    "# set any desired features\n",
    "m.drawcoastlines()\n",
    "m.drawmapboundary(fill_color = sea_color)\n",
    "m.drawparallels(np.arange(-80, 81, 15))\n",
    "m.drawmeridians(np.arange(-180, 180, 15))\n",
    "\n",
    "x, y = m(*np.meshgrid(lonvals, latvals))\n",
    "\n",
    "# make filled contour plot.`\n",
    "m.contourf(x, y, ice2d, 30, cmap = plt.cm.jet)\n",
    "plt.colorbar(orientation=\"vertical\")\n",
    "\n",
    "x, y = m(-138,-65) # <-- find those points by looking at meridians and parallels\n",
    "m.scatter(x, y, c=\"crimson\")\n",
    "\n",
    "plt.show()"
   ]
  },
  {
   "cell_type": "code",
   "execution_count": 51,
   "metadata": {},
   "outputs": [
    {
     "data": {
      "text/plain": [
       "array([-90., -89., -88., -87., -86., -85., -84., -83., -82., -81., -80.,\n",
       "       -79., -78., -77., -76., -75., -74., -73., -72., -71., -70., -69.,\n",
       "       -68., -67., -66., -65., -64., -63., -62., -61., -60., -59., -58.,\n",
       "       -57., -56., -55., -54., -53., -52., -51., -50., -49., -48., -47.,\n",
       "       -46., -45., -44., -43., -42., -41., -40.])"
      ]
     },
     "execution_count": 51,
     "metadata": {},
     "output_type": "execute_result"
    }
   ],
   "source": [
    "latvals"
   ]
  },
  {
   "cell_type": "code",
   "execution_count": 52,
   "metadata": {},
   "outputs": [
    {
     "data": {
      "text/plain": [
       "array([  0.,   2.,   4.,   6.,   8.,  10.,  12.,  14.,  16.,  18.,  20.,\n",
       "        22.,  24.,  26.,  28.,  30.,  32.,  34.,  36.,  38.,  40.,  42.,\n",
       "        44.,  46.,  48.,  50.,  52.,  54.,  56.,  58.,  60.,  62.,  64.,\n",
       "        66.,  68.,  70.,  72.,  74.,  76.,  78.,  80.,  82.,  84.,  86.,\n",
       "        88.,  90.,  92.,  94.,  96.,  98., 100., 102., 104., 106., 108.,\n",
       "       110., 112., 114., 116., 118., 120., 122., 124., 126., 128., 130.,\n",
       "       132., 134., 136., 138., 140., 142., 144., 146., 148., 150., 152.,\n",
       "       154., 156., 158., 160., 162., 164., 166., 168., 170., 172., 174.,\n",
       "       176., 178., 180., 182., 184., 186., 188., 190., 192., 194., 196.,\n",
       "       198., 200., 202., 204., 206., 208., 210., 212., 214., 216., 218.,\n",
       "       220., 222., 224., 226., 228., 230., 232., 234., 236., 238., 240.,\n",
       "       242., 244., 246., 248., 250., 252., 254., 256., 258., 260., 262.,\n",
       "       264., 266., 268., 270., 272., 274., 276., 278., 280., 282., 284.,\n",
       "       286., 288., 290., 292., 294., 296., 298., 300., 302., 304., 306.,\n",
       "       308., 310., 312., 314., 316., 318., 320., 322., 324., 326., 328.,\n",
       "       330., 332., 334., 336., 338., 340., 342., 344., 346., 348., 350.,\n",
       "       352., 354., 356., 358., 360.])"
      ]
     },
     "execution_count": 52,
     "metadata": {},
     "output_type": "execute_result"
    }
   ],
   "source": [
    "lonvals"
   ]
  }
 ],
 "metadata": {
  "kernelspec": {
   "display_name": "Python 3",
   "language": "python",
   "name": "python3"
  },
  "language_info": {
   "codemirror_mode": {
    "name": "ipython",
    "version": 3
   },
   "file_extension": ".py",
   "mimetype": "text/x-python",
   "name": "python",
   "nbconvert_exporter": "python",
   "pygments_lexer": "ipython3",
   "version": "3.7.2"
  }
 },
 "nbformat": 4,
 "nbformat_minor": 2
}
