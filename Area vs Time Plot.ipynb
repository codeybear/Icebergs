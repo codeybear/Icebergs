{
 "cells": [
  {
   "cell_type": "code",
   "execution_count": 3,
   "metadata": {},
   "outputs": [],
   "source": [
    "%matplotlib inline\n",
    "\n",
    "import pandas as pd\n",
    "import numpy as np\n",
    "import matplotlib.pyplot as plt\n",
    "import xlrd"
   ]
  },
  {
   "cell_type": "code",
   "execution_count": 4,
   "metadata": {},
   "outputs": [
    {
     "data": {
      "text/html": [
       "<div>\n",
       "<style scoped>\n",
       "    .dataframe tbody tr th:only-of-type {\n",
       "        vertical-align: middle;\n",
       "    }\n",
       "\n",
       "    .dataframe tbody tr th {\n",
       "        vertical-align: top;\n",
       "    }\n",
       "\n",
       "    .dataframe thead th {\n",
       "        text-align: right;\n",
       "    }\n",
       "</style>\n",
       "<table border=\"1\" class=\"dataframe\">\n",
       "  <thead>\n",
       "    <tr style=\"text-align: right;\">\n",
       "      <th></th>\n",
       "      <th>date</th>\n",
       "      <th>datenormal</th>\n",
       "      <th>date_gap</th>\n",
       "      <th>disp</th>\n",
       "      <th>flags</th>\n",
       "      <th>lat</th>\n",
       "      <th>lon</th>\n",
       "      <th>mask</th>\n",
       "      <th>size</th>\n",
       "      <th>vel_angle</th>\n",
       "      <th>Exported</th>\n",
       "      <th>Area km2</th>\n",
       "      <th>worldview url</th>\n",
       "      <th>Notes</th>\n",
       "      <th>Unnamed: 14</th>\n",
       "      <th>Unnamed: 15</th>\n",
       "      <th>Unnamed: 16</th>\n",
       "      <th>Unnamed: 17</th>\n",
       "    </tr>\n",
       "  </thead>\n",
       "  <tbody>\n",
       "    <tr>\n",
       "      <th>0</th>\n",
       "      <td>2012145.0</td>\n",
       "      <td>2012-05-24</td>\n",
       "      <td>0.0</td>\n",
       "      <td>0.0</td>\n",
       "      <td>13.0</td>\n",
       "      <td>-74.769</td>\n",
       "      <td>-107.356</td>\n",
       "      <td>0.0</td>\n",
       "      <td>10.0</td>\n",
       "      <td>0.0</td>\n",
       "      <td>NaN</td>\n",
       "      <td>NaN</td>\n",
       "      <td>NaN</td>\n",
       "      <td>NaN</td>\n",
       "      <td>NaN</td>\n",
       "      <td>NaN</td>\n",
       "      <td>Mask Values</td>\n",
       "      <td>NaN</td>\n",
       "    </tr>\n",
       "    <tr>\n",
       "      <th>1</th>\n",
       "      <td>2012146.0</td>\n",
       "      <td>2012-05-25</td>\n",
       "      <td>1.0</td>\n",
       "      <td>0.0</td>\n",
       "      <td>13.0</td>\n",
       "      <td>-74.769</td>\n",
       "      <td>-107.356</td>\n",
       "      <td>0.0</td>\n",
       "      <td>10.0</td>\n",
       "      <td>0.0</td>\n",
       "      <td>NaN</td>\n",
       "      <td>NaN</td>\n",
       "      <td>NaN</td>\n",
       "      <td>NaN</td>\n",
       "      <td>NaN</td>\n",
       "      <td>NaN</td>\n",
       "      <td>#</td>\n",
       "      <td>Surrounding</td>\n",
       "    </tr>\n",
       "    <tr>\n",
       "      <th>2</th>\n",
       "      <td>2012147.0</td>\n",
       "      <td>2012-05-26</td>\n",
       "      <td>1.0</td>\n",
       "      <td>0.0</td>\n",
       "      <td>13.0</td>\n",
       "      <td>-74.769</td>\n",
       "      <td>-107.356</td>\n",
       "      <td>0.0</td>\n",
       "      <td>10.0</td>\n",
       "      <td>0.0</td>\n",
       "      <td>NaN</td>\n",
       "      <td>NaN</td>\n",
       "      <td>NaN</td>\n",
       "      <td>NaN</td>\n",
       "      <td>NaN</td>\n",
       "      <td>NaN</td>\n",
       "      <td>0</td>\n",
       "      <td>Near Land or no data</td>\n",
       "    </tr>\n",
       "    <tr>\n",
       "      <th>3</th>\n",
       "      <td>2012148.0</td>\n",
       "      <td>2012-05-27</td>\n",
       "      <td>1.0</td>\n",
       "      <td>0.0</td>\n",
       "      <td>13.0</td>\n",
       "      <td>-74.769</td>\n",
       "      <td>-107.356</td>\n",
       "      <td>0.0</td>\n",
       "      <td>10.0</td>\n",
       "      <td>0.0</td>\n",
       "      <td>NaN</td>\n",
       "      <td>NaN</td>\n",
       "      <td>NaN</td>\n",
       "      <td>NaN</td>\n",
       "      <td>NaN</td>\n",
       "      <td>NaN</td>\n",
       "      <td>1</td>\n",
       "      <td>Sea Ice</td>\n",
       "    </tr>\n",
       "    <tr>\n",
       "      <th>4</th>\n",
       "      <td>2012149.0</td>\n",
       "      <td>2012-05-28</td>\n",
       "      <td>1.0</td>\n",
       "      <td>0.0</td>\n",
       "      <td>13.0</td>\n",
       "      <td>-74.769</td>\n",
       "      <td>-107.356</td>\n",
       "      <td>0.0</td>\n",
       "      <td>10.0</td>\n",
       "      <td>0.0</td>\n",
       "      <td>NaN</td>\n",
       "      <td>NaN</td>\n",
       "      <td>NaN</td>\n",
       "      <td>NaN</td>\n",
       "      <td>NaN</td>\n",
       "      <td>NaN</td>\n",
       "      <td>2</td>\n",
       "      <td>Open Ocean</td>\n",
       "    </tr>\n",
       "  </tbody>\n",
       "</table>\n",
       "</div>"
      ],
      "text/plain": [
       "        date datenormal  date_gap  disp  flags     lat      lon  mask  size  \\\n",
       "0  2012145.0 2012-05-24       0.0   0.0   13.0 -74.769 -107.356   0.0  10.0   \n",
       "1  2012146.0 2012-05-25       1.0   0.0   13.0 -74.769 -107.356   0.0  10.0   \n",
       "2  2012147.0 2012-05-26       1.0   0.0   13.0 -74.769 -107.356   0.0  10.0   \n",
       "3  2012148.0 2012-05-27       1.0   0.0   13.0 -74.769 -107.356   0.0  10.0   \n",
       "4  2012149.0 2012-05-28       1.0   0.0   13.0 -74.769 -107.356   0.0  10.0   \n",
       "\n",
       "   vel_angle Exported  Area km2 worldview url Notes  Unnamed: 14  Unnamed: 15  \\\n",
       "0        0.0      NaN       NaN           NaN   NaN          NaN          NaN   \n",
       "1        0.0      NaN       NaN           NaN   NaN          NaN          NaN   \n",
       "2        0.0      NaN       NaN           NaN   NaN          NaN          NaN   \n",
       "3        0.0      NaN       NaN           NaN   NaN          NaN          NaN   \n",
       "4        0.0      NaN       NaN           NaN   NaN          NaN          NaN   \n",
       "\n",
       "    Unnamed: 16           Unnamed: 17  \n",
       "0  Mask Values                    NaN  \n",
       "1             #           Surrounding  \n",
       "2             0  Near Land or no data  \n",
       "3             1               Sea Ice  \n",
       "4             2            Open Ocean  "
      ]
     },
     "execution_count": 4,
     "metadata": {},
     "output_type": "execute_result"
    }
   ],
   "source": [
    "df = pd.read_excel('b30 stats.xlsx')\n",
    "df.head()"
   ]
  },
  {
   "cell_type": "code",
   "execution_count": 5,
   "metadata": {},
   "outputs": [],
   "source": [
    "df = df[df[\"Area km2\"].isnull() == False]"
   ]
  },
  {
   "cell_type": "markdown",
   "metadata": {},
   "source": [
    "### Convert iceberg freeboard to thickness\n",
    "\n",
    "$h_i = \\frac{\\rho_w}{\\rho_w-\\rho_i}h_{ice}$\n",
    "\n",
    "Density of sea water = 1025\n",
    "Density of ice = 917"
   ]
  },
  {
   "cell_type": "code",
   "execution_count": 19,
   "metadata": {},
   "outputs": [],
   "source": [
    "thickness = (1025/(1025-917))*45\n",
    "df['volume'] = df['Area km2'] * thickness / 1000"
   ]
  },
  {
   "cell_type": "code",
   "execution_count": 21,
   "metadata": {},
   "outputs": [
    {
     "data": {
      "text/html": [
       "<div>\n",
       "<style scoped>\n",
       "    .dataframe tbody tr th:only-of-type {\n",
       "        vertical-align: middle;\n",
       "    }\n",
       "\n",
       "    .dataframe tbody tr th {\n",
       "        vertical-align: top;\n",
       "    }\n",
       "\n",
       "    .dataframe thead th {\n",
       "        text-align: right;\n",
       "    }\n",
       "</style>\n",
       "<table border=\"1\" class=\"dataframe\">\n",
       "  <thead>\n",
       "    <tr style=\"text-align: right;\">\n",
       "      <th></th>\n",
       "      <th>date</th>\n",
       "      <th>datenormal</th>\n",
       "      <th>date_gap</th>\n",
       "      <th>disp</th>\n",
       "      <th>flags</th>\n",
       "      <th>lat</th>\n",
       "      <th>lon</th>\n",
       "      <th>mask</th>\n",
       "      <th>size</th>\n",
       "      <th>vel_angle</th>\n",
       "      <th>Exported</th>\n",
       "      <th>Area km2</th>\n",
       "      <th>worldview url</th>\n",
       "      <th>Notes</th>\n",
       "      <th>Unnamed: 14</th>\n",
       "      <th>Unnamed: 15</th>\n",
       "      <th>Unnamed: 16</th>\n",
       "      <th>Unnamed: 17</th>\n",
       "      <th>volume</th>\n",
       "    </tr>\n",
       "  </thead>\n",
       "  <tbody>\n",
       "    <tr>\n",
       "      <th>93</th>\n",
       "      <td>2012250.0</td>\n",
       "      <td>2012-09-06</td>\n",
       "      <td>1.0</td>\n",
       "      <td>3.597</td>\n",
       "      <td>13.0</td>\n",
       "      <td>-74.659</td>\n",
       "      <td>-107.154</td>\n",
       "      <td>0.0</td>\n",
       "      <td>10.00</td>\n",
       "      <td>0.000</td>\n",
       "      <td>x</td>\n",
       "      <td>3070.7</td>\n",
       "      <td>https://worldview.earthdata.nasa.gov/?p=antarc...</td>\n",
       "      <td>NaN</td>\n",
       "      <td>NaN</td>\n",
       "      <td>NaN</td>\n",
       "      <td>NaN</td>\n",
       "      <td>NaN</td>\n",
       "      <td>1311.444792</td>\n",
       "    </tr>\n",
       "    <tr>\n",
       "      <th>98</th>\n",
       "      <td>2012255.0</td>\n",
       "      <td>2012-09-11</td>\n",
       "      <td>1.0</td>\n",
       "      <td>5.876</td>\n",
       "      <td>13.0</td>\n",
       "      <td>-74.578</td>\n",
       "      <td>-106.981</td>\n",
       "      <td>0.0</td>\n",
       "      <td>10.00</td>\n",
       "      <td>0.000</td>\n",
       "      <td>x</td>\n",
       "      <td>1998.3</td>\n",
       "      <td>https://worldview.earthdata.nasa.gov/?p=antarc...</td>\n",
       "      <td>NaN</td>\n",
       "      <td>NaN</td>\n",
       "      <td>NaN</td>\n",
       "      <td>NaN</td>\n",
       "      <td>NaN</td>\n",
       "      <td>853.440625</td>\n",
       "    </tr>\n",
       "    <tr>\n",
       "      <th>165</th>\n",
       "      <td>2012324.0</td>\n",
       "      <td>2012-11-19</td>\n",
       "      <td>1.0</td>\n",
       "      <td>2.766</td>\n",
       "      <td>15.0</td>\n",
       "      <td>-73.677</td>\n",
       "      <td>-107.688</td>\n",
       "      <td>1.0</td>\n",
       "      <td>1266.26</td>\n",
       "      <td>0.000</td>\n",
       "      <td>x</td>\n",
       "      <td>1602.2</td>\n",
       "      <td>https://worldview.earthdata.nasa.gov/?p=antarc...</td>\n",
       "      <td>NaN</td>\n",
       "      <td>NaN</td>\n",
       "      <td>NaN</td>\n",
       "      <td>NaN</td>\n",
       "      <td>NaN</td>\n",
       "      <td>684.272917</td>\n",
       "    </tr>\n",
       "    <tr>\n",
       "      <th>227</th>\n",
       "      <td>2013020.0</td>\n",
       "      <td>2013-01-20</td>\n",
       "      <td>1.0</td>\n",
       "      <td>4.015</td>\n",
       "      <td>14.0</td>\n",
       "      <td>-73.020</td>\n",
       "      <td>-109.004</td>\n",
       "      <td>1.0</td>\n",
       "      <td>906.89</td>\n",
       "      <td>-0.015</td>\n",
       "      <td>x</td>\n",
       "      <td>1538.6</td>\n",
       "      <td>https://worldview.earthdata.nasa.gov/?p=antarc...</td>\n",
       "      <td>NaN</td>\n",
       "      <td>NaN</td>\n",
       "      <td>NaN</td>\n",
       "      <td>NaN</td>\n",
       "      <td>NaN</td>\n",
       "      <td>657.110417</td>\n",
       "    </tr>\n",
       "    <tr>\n",
       "      <th>306</th>\n",
       "      <td>2013099.0</td>\n",
       "      <td>2013-04-09</td>\n",
       "      <td>1.0</td>\n",
       "      <td>6.141</td>\n",
       "      <td>13.0</td>\n",
       "      <td>-72.291</td>\n",
       "      <td>-112.482</td>\n",
       "      <td>0.0</td>\n",
       "      <td>10.00</td>\n",
       "      <td>0.000</td>\n",
       "      <td>x</td>\n",
       "      <td>1520.8</td>\n",
       "      <td>https://worldview.earthdata.nasa.gov/?p=antarc...</td>\n",
       "      <td>NaN</td>\n",
       "      <td>NaN</td>\n",
       "      <td>NaN</td>\n",
       "      <td>NaN</td>\n",
       "      <td>NaN</td>\n",
       "      <td>649.508333</td>\n",
       "    </tr>\n",
       "  </tbody>\n",
       "</table>\n",
       "</div>"
      ],
      "text/plain": [
       "          date datenormal  date_gap   disp  flags     lat      lon  mask  \\\n",
       "93   2012250.0 2012-09-06       1.0  3.597   13.0 -74.659 -107.154   0.0   \n",
       "98   2012255.0 2012-09-11       1.0  5.876   13.0 -74.578 -106.981   0.0   \n",
       "165  2012324.0 2012-11-19       1.0  2.766   15.0 -73.677 -107.688   1.0   \n",
       "227  2013020.0 2013-01-20       1.0  4.015   14.0 -73.020 -109.004   1.0   \n",
       "306  2013099.0 2013-04-09       1.0  6.141   13.0 -72.291 -112.482   0.0   \n",
       "\n",
       "        size  vel_angle Exported  Area km2  \\\n",
       "93     10.00      0.000        x    3070.7   \n",
       "98     10.00      0.000        x    1998.3   \n",
       "165  1266.26      0.000        x    1602.2   \n",
       "227   906.89     -0.015        x    1538.6   \n",
       "306    10.00      0.000        x    1520.8   \n",
       "\n",
       "                                         worldview url Notes  Unnamed: 14  \\\n",
       "93   https://worldview.earthdata.nasa.gov/?p=antarc...   NaN          NaN   \n",
       "98   https://worldview.earthdata.nasa.gov/?p=antarc...   NaN          NaN   \n",
       "165  https://worldview.earthdata.nasa.gov/?p=antarc...   NaN          NaN   \n",
       "227  https://worldview.earthdata.nasa.gov/?p=antarc...   NaN          NaN   \n",
       "306  https://worldview.earthdata.nasa.gov/?p=antarc...   NaN          NaN   \n",
       "\n",
       "     Unnamed: 15 Unnamed: 16 Unnamed: 17       volume  \n",
       "93           NaN         NaN         NaN  1311.444792  \n",
       "98           NaN         NaN         NaN   853.440625  \n",
       "165          NaN         NaN         NaN   684.272917  \n",
       "227          NaN         NaN         NaN   657.110417  \n",
       "306          NaN         NaN         NaN   649.508333  "
      ]
     },
     "execution_count": 21,
     "metadata": {},
     "output_type": "execute_result"
    }
   ],
   "source": [
    "df.head()"
   ]
  },
  {
   "cell_type": "code",
   "execution_count": 10,
   "metadata": {},
   "outputs": [
    {
     "data": {
      "text/plain": [
       "Text(0, 0.5, 'Area ($km^2$)')"
      ]
     },
     "execution_count": 10,
     "metadata": {},
     "output_type": "execute_result"
    },
    {
     "data": {
      "image/png": "[encoded data removed]",
      "text/plain": [
       "<Figure size 1008x360 with 1 Axes>"
      ]
     },
     "metadata": {
      "needs_background": "light"
     },
     "output_type": "display_data"
    }
   ],
   "source": [
    "df.plot(x = 'datenormal', y = 'Area km2', figsize=(14,5), legend=None)\n",
    "plt.xlabel('Date')\n",
    "plt.ylabel('Area ($km^2$)')"
   ]
  },
  {
   "cell_type": "code",
   "execution_count": 23,
   "metadata": {},
   "outputs": [
    {
     "data": {
      "text/plain": [
       "Text(0, 0.5, 'Volume ($km^3$)')"
      ]
     },
     "execution_count": 23,
     "metadata": {},
     "output_type": "execute_result"
    },
    {
     "data": {
      "image/png": "[encoded data removed]",
      "text/plain": [
       "<Figure size 1008x360 with 1 Axes>"
      ]
     },
     "metadata": {
      "needs_background": "light"
     },
     "output_type": "display_data"
    }
   ],
   "source": [
    "df.plot(x = 'datenormal', y = 'volume', figsize=(14,5), legend=None)\n",
    "plt.xlabel('Date')\n",
    "plt.ylabel('Volume ($km^3$)')"
   ]
  },
  {
   "cell_type": "code",
   "execution_count": 22,
   "metadata": {},
   "outputs": [
    {
     "data": {
      "text/plain": [
       "1300.6158564814814"
      ]
     },
     "execution_count": 22,
     "metadata": {},
     "output_type": "execute_result"
    }
   ],
   "source": [
    "maxvol = df['volume'].max()\n",
    "minvol = df['volume'].min()\n",
    "maxvol - minvol / 9"
   ]
  },
  {
   "cell_type": "code",
   "execution_count": null,
   "metadata": {},
   "outputs": [],
   "source": []
  }
 ],
 "metadata": {
  "kernelspec": {
   "display_name": "Python 3",
   "language": "python",
   "name": "python3"
  },
  "language_info": {
   "codemirror_mode": {
    "name": "ipython",
    "version": 3
   },
   "file_extension": ".py",
   "mimetype": "text/x-python",
   "name": "python",
   "nbconvert_exporter": "python",
   "pygments_lexer": "ipython3",
   "version": "3.7.2"
  }
 },
 "nbformat": 4,
 "nbformat_minor": 2
}
